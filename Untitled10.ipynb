{
 "cells": [
  {
   "cell_type": "markdown",
   "id": "e00ddf72",
   "metadata": {},
   "source": [
    "# boolean, conditions and list manupulation"
   ]
  },
  {
   "cell_type": "markdown",
   "id": "307e42b4",
   "metadata": {},
   "source": [
    "# True or False are known as boolean"
   ]
  },
  {
   "cell_type": "code",
   "execution_count": null,
   "id": "8c48ccbb",
   "metadata": {},
   "outputs": [],
   "source": []
  },
  {
   "cell_type": "code",
   "execution_count": null,
   "id": "e4d0ee94",
   "metadata": {},
   "outputs": [],
   "source": []
  }
 ],
 "metadata": {
  "kernelspec": {
   "display_name": "Python 3 (ipykernel)",
   "language": "python",
   "name": "python3"
  },
  "language_info": {
   "codemirror_mode": {
    "name": "ipython",
    "version": 3
   },
   "file_extension": ".py",
   "mimetype": "text/x-python",
   "name": "python",
   "nbconvert_exporter": "python",
   "pygments_lexer": "ipython3",
   "version": "3.10.9"
  }
 },
 "nbformat": 4,
 "nbformat_minor": 5
}
